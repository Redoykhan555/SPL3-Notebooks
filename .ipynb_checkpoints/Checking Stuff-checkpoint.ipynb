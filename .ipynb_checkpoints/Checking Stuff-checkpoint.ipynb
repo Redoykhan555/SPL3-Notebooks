{
 "cells": [
  {
   "cell_type": "code",
   "execution_count": 14,
   "metadata": {},
   "outputs": [],
   "source": [
    "import numpy as np\n",
    "import os\n",
    "import time\n",
    "import PIL.Image as Image\n",
    "\n",
    "\n",
    "import torch\n",
    "import torch.nn as nn\n",
    "import torchvision.transforms as transforms\n",
    "from torchvision.utils import save_image\n",
    "import random"
   ]
  },
  {
   "cell_type": "code",
   "execution_count": 4,
   "metadata": {},
   "outputs": [],
   "source": [
    "im = Image.open(\"d:/Images/dancing.jpg\")"
   ]
  },
  {
   "cell_type": "code",
   "execution_count": 6,
   "metadata": {},
   "outputs": [],
   "source": [
    "arr = np.array(im)"
   ]
  },
  {
   "cell_type": "code",
   "execution_count": 25,
   "metadata": {},
   "outputs": [],
   "source": [
    "XL,XR = 250,310\n",
    "YU,YD = 200,260\n",
    "#arr[XL:XR,YU:YD,:]"
   ]
  },
  {
   "cell_type": "code",
   "execution_count": 9,
   "metadata": {},
   "outputs": [
    {
     "data": {
      "text/plain": [
       "(0, 255, 60.1313306549793, (444, 444, 3))"
      ]
     },
     "execution_count": 9,
     "metadata": {},
     "output_type": "execute_result"
    }
   ],
   "source": [
    "arr.min(),arr.max(),arr.mean(),arr.shape"
   ]
  },
  {
   "cell_type": "code",
   "execution_count": 64,
   "metadata": {},
   "outputs": [],
   "source": [
    "imm = Image.fromarray(arr)\n",
    "imm.save(\"e:/out.jpg\")"
   ]
  },
  {
   "cell_type": "code",
   "execution_count": 77,
   "metadata": {},
   "outputs": [],
   "source": [
    "model = nn.Sequential(nn.Linear(2,8),\n",
    "                     nn.ReLU(),\n",
    "                     nn.Linear(8,16),\n",
    "                     nn.ReLU(),\n",
    "                     nn.Linear(16,3),\n",
    "                     nn.Tanh())\n",
    "opt = torch.optim.Adam(model.parameters(),.0002)\n",
    "criterion = nn.MSELoss()"
   ]
  },
  {
   "cell_type": "code",
   "execution_count": 78,
   "metadata": {},
   "outputs": [],
   "source": [
    "for i in range(1):\n",
    "    xs = random.choices(list(range(440)),k=32)\n",
    "    ys = random.choices(list(range(440)),k=32)\n",
    "    func = lambda p:p[0]<XL or p[0]>XR or p[1]<YU or p[1]>YD\n",
    "    ps = list(filter(func,zip(xs,ys)))\n",
    "    ps = list(map(list,ps))\n",
    "    \n",
    "    exout = torch.Tensor([arr[x,y]/255 for x,y in ps])\n",
    "    \n",
    "    out = model(torch.Tensor(ps))\n",
    "    loss = criterion(out,exout)\n",
    "    \n",
    "    opt.zero_grad()\n",
    "    loss.backward()\n",
    "    opt.step()"
   ]
  },
  {
   "cell_type": "code",
   "execution_count": 79,
   "metadata": {},
   "outputs": [],
   "source": [
    "ps = [[x,y] for x in range(XL,XR) for y in range(YU,YD)]\n",
    "out = model(torch.Tensor(ps))      "
   ]
  },
  {
   "cell_type": "code",
   "execution_count": 80,
   "metadata": {},
   "outputs": [],
   "source": [
    "arr[XL:XR,YU:YD,:] = out.detach().numpy().reshape(XR-XL,-1,3)"
   ]
  },
  {
   "cell_type": "code",
   "execution_count": 76,
   "metadata": {},
   "outputs": [
    {
     "data": {
      "text/plain": [
       "(tensor(54.8710),\n",
       " tensor(33.2818),\n",
       " tensor(-1.0457, grad_fn=<MeanBackward1>),\n",
       " tensor(-4.7272, grad_fn=<MinBackward1>),\n",
       " tensor(4.2960, grad_fn=<MaxBackward1>),\n",
       " tensor(2.7609, grad_fn=<PowBackward0>))"
      ]
     },
     "execution_count": 76,
     "metadata": {},
     "output_type": "execute_result"
    }
   ],
   "source": [
    "exout.mean(),exout.var()**.5,out.mean(),out.min(),out.max(),out.var()**.5"
   ]
  },
  {
   "cell_type": "code",
   "execution_count": null,
   "metadata": {},
   "outputs": [],
   "source": []
  }
 ],
 "metadata": {
  "kernelspec": {
   "display_name": "Python 3",
   "language": "python",
   "name": "python3"
  },
  "language_info": {
   "codemirror_mode": {
    "name": "ipython",
    "version": 3
   },
   "file_extension": ".py",
   "mimetype": "text/x-python",
   "name": "python",
   "nbconvert_exporter": "python",
   "pygments_lexer": "ipython3",
   "version": "3.6.5"
  }
 },
 "nbformat": 4,
 "nbformat_minor": 2
}
