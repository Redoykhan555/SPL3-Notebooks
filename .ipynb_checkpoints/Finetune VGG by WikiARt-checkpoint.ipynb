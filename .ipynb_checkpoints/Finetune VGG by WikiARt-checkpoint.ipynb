{
 "cells": [
  {
   "cell_type": "code",
   "execution_count": 5,
   "metadata": {},
   "outputs": [],
   "source": [
    "import os\n",
    "import pandas as pd\n",
    "from PIL import Image, ImageFile\n",
    "import time\n",
    "ImageFile.LOAD_TRUNCATED_IMAGES = True\n",
    "\n",
    "import torch\n",
    "import torchvision.models as models\n",
    "from torch.utils.data import Dataset, DataLoader\n",
    "from torchvision import transforms, utils\n",
    "from torchvision.datasets import ImageFolder\n",
    "import torch.nn as nn\n",
    "import torch.optim as optim\n",
    "\n",
    "from tqdm import tqdm_notebook as tqdm\n",
    "from tensorboardX import SummaryWriter"
   ]
  },
  {
   "cell_type": "code",
   "execution_count": 17,
   "metadata": {},
   "outputs": [],
   "source": [
    "class ArtistDataset(Dataset):\n",
    "    def __init__(self,transform,phase='train'):\n",
    "        self.files = pd.read_csv(f\"d:/zips/wikiArt/artist_{phase}.csv\",names=['path','artist_id'])\n",
    "        self.transform = transform\n",
    "        \n",
    "    def __len__(self):\n",
    "        return len(self.files)\n",
    "    \n",
    "    def __getitem__(self, idx):\n",
    "        im = Image.open(\"d:/wikiart/\"+self.files.iloc[idx]['path'])\n",
    "        im = self.transform(im).cuda()\n",
    "        return (im,self.files.iloc[idx]['artist_id'])"
   ]
  },
  {
   "cell_type": "code",
   "execution_count": 20,
   "metadata": {},
   "outputs": [],
   "source": [
    "trans = transforms.Compose([transforms.Resize(256),transforms.RandomCrop(224),\n",
    "                            transforms.ToTensor(),transforms.Normalize((.5,.5,.5),(.5,.5,.5))])\n",
    "\n",
    "trainData = ArtistDataset(trans,'train')\n",
    "testData = ArtistDataset(trans,'val')\n",
    "\n",
    "trainLoader = DataLoader(trainData,batch_size=16,shuffle=True)\n",
    "testLoader = DataLoader(testData,batch_size=16)\n"
   ]
  },
  {
   "cell_type": "code",
   "execution_count": null,
   "metadata": {},
   "outputs": [],
   "source": [
    "vgg = models.vgg16(pretrained=True)"
   ]
  },
  {
   "cell_type": "code",
   "execution_count": null,
   "metadata": {},
   "outputs": [],
   "source": [
    "class VGG(nn.Module):\n",
    "    def __init__(self,net):\n",
    "        super(VGG,self).__init__()\n",
    "        self.encoder = net.features\n",
    "        self.classifier = nn.Sequential(\n",
    "            nn.Linear(512*49,4096),\n",
    "            nn.ReLU(True),\n",
    "            nn.Dropout(),\n",
    "            nn.Linear(4096,256),\n",
    "            nn.ReLU(True),\n",
    "            nn.Dropout(),\n",
    "            nn.Linear(256,23)\n",
    "        )\n",
    "        \n",
    "    def forward(self,x):\n",
    "        x = self.encoder(x)\n",
    "        x = x.view(x.size(0),-1)\n",
    "        return self.classifier(x)"
   ]
  },
  {
   "cell_type": "code",
   "execution_count": null,
   "metadata": {},
   "outputs": [],
   "source": [
    "model = VGG(vgg).cuda()"
   ]
  },
  {
   "cell_type": "code",
   "execution_count": null,
   "metadata": {},
   "outputs": [],
   "source": [
    "criterion = nn.CrossEntropyLoss()\n",
    "optimizer = optim.Adam([{'params':model.encoder.parameters(),'lr':1e-4},\n",
    "                        {'params':model.classifier.parameters(),'lr':1e-3}])\n",
    "scheduler = optim.lr_scheduler.StepLR(optimizer, step_size=5000, gamma=0.1)\n",
    "writer = SummaryWriter(log_dir=\"d:/Visual\")"
   ]
  },
  {
   "cell_type": "code",
   "execution_count": null,
   "metadata": {},
   "outputs": [],
   "source": [
    "def validate(model):\n",
    "    model.eval()\n",
    "    total,correct = 0,0\n",
    "    with torch.no_grad():\n",
    "        for x,y in testLoader:\n",
    "            yh = model(x)\n",
    "            _,pred = torch.max(outputs, 1)\n",
    "            correct += torch.sum(preds == y).item()\n",
    "            \n",
    "    print(correct/len(testLoader))"
   ]
  },
  {
   "cell_type": "code",
   "execution_count": null,
   "metadata": {},
   "outputs": [],
   "source": [
    "model.train()\n",
    "for its in tqdm(range(20000)):\n",
    "    scheduler.step()\n",
    "    optimizer.zero_grad()\n",
    "    \n",
    "    x,y = next(trainLoader)\n",
    "    yh = model(x)\n",
    "    loss = criterion(yh,y)\n",
    "    \n",
    "    loss.backward()\n",
    "    optimizer.step()\n",
    "    \n",
    "    writer.add_scalar('Train/Loss',loss.item(),its)\n",
    "    \n",
    "    if its==2500:\n",
    "        torch.save(vgg.state_dict(),f\"d:/Visual/model_{its}.pth\")\n",
    "        print(\"Model saved: \",its)\n",
    "        validate(model)\n",
    "        model.train()"
   ]
  },
  {
   "cell_type": "code",
   "execution_count": 21,
   "metadata": {},
   "outputs": [
    {
     "data": {
      "application/vnd.jupyter.widget-view+json": {
       "model_id": "4ba0bee37e1e4bdd8dfd86bec3dfa171",
       "version_major": 2,
       "version_minor": 0
      },
      "text/plain": [
       "HBox(children=(IntProgress(value=0, max=13), HTML(value='')))"
      ]
     },
     "metadata": {},
     "output_type": "display_data"
    }
   ],
   "source": [
    "for x,y in tqdm(testLoader):\n",
    "    pass"
   ]
  },
  {
   "cell_type": "code",
   "execution_count": 22,
   "metadata": {},
   "outputs": [
    {
     "data": {
      "text/plain": [
       "tensor([4, 4, 4, 4, 4, 4, 4, 4])"
      ]
     },
     "execution_count": 22,
     "metadata": {},
     "output_type": "execute_result"
    }
   ],
   "source": [
    "y"
   ]
  },
  {
   "cell_type": "code",
   "execution_count": null,
   "metadata": {},
   "outputs": [],
   "source": []
  }
 ],
 "metadata": {
  "kernelspec": {
   "display_name": "Python 3",
   "language": "python",
   "name": "python3"
  },
  "language_info": {
   "codemirror_mode": {
    "name": "ipython",
    "version": 3
   },
   "file_extension": ".py",
   "mimetype": "text/x-python",
   "name": "python",
   "nbconvert_exporter": "python",
   "pygments_lexer": "ipython3",
   "version": "3.6.5"
  }
 },
 "nbformat": 4,
 "nbformat_minor": 2
}
