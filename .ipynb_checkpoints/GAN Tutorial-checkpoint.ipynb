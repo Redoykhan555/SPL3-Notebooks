{
 "cells": [
  {
   "cell_type": "code",
   "execution_count": 1,
   "metadata": {},
   "outputs": [],
   "source": [
    "import os\n",
    "import torch\n",
    "import torchvision\n",
    "import torch.nn as nn\n",
    "from torchvision import transforms\n",
    "from torchvision.utils import save_image"
   ]
  },
  {
   "cell_type": "code",
   "execution_count": 2,
   "metadata": {},
   "outputs": [],
   "source": [
    "device = torch.device('cuda' if torch.cuda.is_available() else 'cpu')"
   ]
  },
  {
   "cell_type": "code",
   "execution_count": 4,
   "metadata": {},
   "outputs": [],
   "source": [
    "latent_size = 64\n",
    "hidden_size = 256\n",
    "image_size = 784\n",
    "num_epochs = 200\n",
    "batch_size = 100\n",
    "sample_dir = 'd:/samples'\n",
    "\n",
    "if not os.path.exists(sample_dir):\n",
    "    os.makedirs(sample_dir)"
   ]
  },
  {
   "cell_type": "code",
   "execution_count": 5,
   "metadata": {},
   "outputs": [],
   "source": [
    "transform = transforms.Compose([\n",
    "            transforms.ToTensor(),\n",
    "            transforms.Normalize(mean=(0.5, 0.5, 0.5),std=(0.5, 0.5, 0.5))])"
   ]
  },
  {
   "cell_type": "code",
   "execution_count": 6,
   "metadata": {},
   "outputs": [
    {
     "name": "stdout",
     "output_type": "stream",
     "text": [
      "Downloading http://yann.lecun.com/exdb/mnist/train-images-idx3-ubyte.gz\n",
      "Downloading http://yann.lecun.com/exdb/mnist/train-labels-idx1-ubyte.gz\n",
      "Downloading http://yann.lecun.com/exdb/mnist/t10k-images-idx3-ubyte.gz\n",
      "Downloading http://yann.lecun.com/exdb/mnist/t10k-labels-idx1-ubyte.gz\n",
      "Processing...\n",
      "Done!\n"
     ]
    }
   ],
   "source": [
    "mnist = torchvision.datasets.MNIST(root='d:/MNIST/',\n",
    "                                   train=True,\n",
    "                                   transform=transform,\n",
    "                                   download=True)"
   ]
  },
  {
   "cell_type": "code",
   "execution_count": 7,
   "metadata": {},
   "outputs": [],
   "source": [
    "data_loader = torch.utils.data.DataLoader(dataset=mnist,\n",
    "                                          batch_size=batch_size, \n",
    "                                          shuffle=True)"
   ]
  },
  {
   "cell_type": "code",
   "execution_count": 11,
   "metadata": {},
   "outputs": [],
   "source": [
    "D = nn.Sequential(\n",
    "    nn.Linear(image_size,hidden_size),\n",
    "    nn.LeakyReLU(.2),\n",
    "    nn.Linear(hidden_size,hidden_size),\n",
    "    nn.LeakyReLU(0.2),\n",
    "    nn.Linear(hidden_size, 1),\n",
    "    nn.Sigmoid()).to(device)\n",
    "\n",
    "G = nn.Sequential(\n",
    "    nn.Linear(latent_size,hidden_size),\n",
    "    nn.ReLU(),\n",
    "    nn.Linear(hidden_size,hidden_size),\n",
    "    nn.ReLU(),\n",
    "    nn.Linear(hidden_size,image_size),\n",
    "    nn.Tanh()).to(device)"
   ]
  },
  {
   "cell_type": "code",
   "execution_count": 12,
   "metadata": {},
   "outputs": [],
   "source": [
    "criterion = nn.BCELoss()\n",
    "d_optimizer = torch.optim.Adam(D.parameters(), lr=0.0002)\n",
    "g_optimizer = torch.optim.Adam(G.parameters(), lr=0.0002)"
   ]
  },
  {
   "cell_type": "code",
   "execution_count": 13,
   "metadata": {},
   "outputs": [],
   "source": [
    "def denorm(x):\n",
    "    out = (x + 1) / 2\n",
    "    return out.clamp(0, 1)\n",
    "\n",
    "def reset_grad():\n",
    "    d_optimizer.zero_grad()\n",
    "    g_optimizer.zero_grad()"
   ]
  },
  {
   "cell_type": "code",
   "execution_count": null,
   "metadata": {},
   "outputs": [
    {
     "name": "stdout",
     "output_type": "stream",
     "text": [
      "100 600 0.012241052463650703 5.728859901428223\n",
      "200 600 0.01560187991708517 5.394524574279785\n",
      "300 600 0.01006968505680561 6.615293979644775\n",
      "400 600 0.007493121549487114 6.205960750579834\n",
      "500 600 0.015997696667909622 5.115780830383301\n",
      "600 600 0.019362976774573326 6.4097208976745605\n",
      "100 600 0.02448098734021187 6.327150821685791\n",
      "200 600 0.028336849063634872 5.604171276092529\n",
      "300 600 0.082874596118927 7.147561550140381\n",
      "400 600 0.0808338075876236 4.517849922180176\n",
      "500 600 0.34115099906921387 6.846116542816162\n",
      "600 600 0.0476398840546608 6.767890453338623\n",
      "100 600 0.17276516556739807 3.8496320247650146\n",
      "200 600 0.2278597503900528 4.556034088134766\n",
      "300 600 0.25600844621658325 4.8330559730529785\n",
      "400 600 0.44862455129623413 5.88062858581543\n",
      "500 600 0.6797982454299927 3.5120224952697754\n",
      "600 600 0.7296677231788635 3.0891616344451904\n",
      "100 600 0.3494322896003723 3.349128484725952\n",
      "200 600 0.5206717252731323 5.005690097808838\n",
      "300 600 0.6268661618232727 4.6981682777404785\n",
      "400 600 0.21782223880290985 4.592153549194336\n",
      "500 600 0.3302838206291199 3.7139976024627686\n",
      "600 600 0.3670031726360321 3.096479892730713\n",
      "100 600 0.3951428234577179 3.119413375854492\n",
      "200 600 0.058702729642391205 4.058598518371582\n",
      "300 600 0.35523518919944763 3.1815149784088135\n",
      "400 600 0.14090225100517273 3.991927146911621\n",
      "500 600 0.13649100065231323 5.4471845626831055\n",
      "600 600 0.13273629546165466 4.1980791091918945\n",
      "100 600 0.13419580459594727 6.629915714263916\n",
      "200 600 0.09905902296304703 4.673208236694336\n",
      "300 600 0.3165149390697479 5.434219837188721\n",
      "400 600 0.3552955985069275 5.43148946762085\n",
      "500 600 0.19479182362556458 3.324730634689331\n",
      "600 600 0.2062738537788391 4.172351837158203\n",
      "100 600 0.10675369203090668 5.402824878692627\n",
      "200 600 0.13341177999973297 5.331552505493164\n",
      "300 600 0.1055474504828453 7.196105480194092\n",
      "400 600 0.06728187203407288 5.468308925628662\n",
      "500 600 0.19189795851707458 5.1913743019104\n",
      "600 600 0.061536066234111786 6.452837944030762\n",
      "100 600 0.14176033437252045 9.224985122680664\n",
      "200 600 0.172592893242836 4.89406681060791\n",
      "300 600 0.0495542548596859 5.647627353668213\n",
      "400 600 0.24787813425064087 4.934882164001465\n",
      "500 600 0.10888437926769257 4.8362650871276855\n",
      "600 600 0.1170864924788475 4.345675468444824\n",
      "100 600 0.03760400786995888 6.898183822631836\n",
      "200 600 0.10385370254516602 5.7584004402160645\n",
      "300 600 0.051389314234256744 5.444515228271484\n",
      "400 600 0.04629550129175186 8.153289794921875\n",
      "500 600 0.05118391290307045 6.219766616821289\n",
      "600 600 0.08046899735927582 6.338077545166016\n",
      "100 600 0.055415648967027664 5.701119422912598\n",
      "200 600 0.1140047013759613 8.011261940002441\n",
      "300 600 0.03746332228183746 8.659712791442871\n",
      "400 600 0.2025807499885559 8.298823356628418\n",
      "500 600 0.043837014585733414 7.198633193969727\n",
      "600 600 0.05758801847696304 5.951106548309326\n",
      "100 600 0.05507400631904602 7.200881481170654\n",
      "200 600 0.22151906788349152 9.044421195983887\n",
      "300 600 0.11312009394168854 7.306361198425293\n",
      "400 600 0.21659992635250092 5.755041599273682\n",
      "500 600 0.14810284972190857 5.974424362182617\n",
      "600 600 0.3027566075325012 5.143545150756836\n",
      "100 600 0.17485934495925903 6.935621738433838\n",
      "200 600 0.35059642791748047 5.705445766448975\n",
      "300 600 0.09556501358747482 5.810047149658203\n",
      "400 600 0.05848615616559982 6.882038116455078\n",
      "500 600 0.0783185064792633 5.521661281585693\n",
      "600 600 0.11743529140949249 6.100111484527588\n",
      "100 600 0.24093374609947205 5.039289951324463\n",
      "200 600 0.3123956322669983 5.851382255554199\n",
      "300 600 0.15015724301338196 7.266821384429932\n",
      "400 600 0.3101102113723755 5.403445243835449\n",
      "500 600 0.2515358328819275 5.614735126495361\n",
      "600 600 0.19789932668209076 5.369872570037842\n",
      "100 600 0.12700673937797546 5.699786186218262\n",
      "200 600 0.12739555537700653 4.7176947593688965\n",
      "300 600 0.16837233304977417 4.2572197914123535\n",
      "400 600 0.1873714029788971 4.438390731811523\n",
      "500 600 0.1431635618209839 4.408114910125732\n",
      "600 600 0.10405075550079346 4.134669303894043\n",
      "100 600 0.07046209275722504 4.8605732917785645\n",
      "200 600 0.08255216479301453 5.588431358337402\n",
      "300 600 0.10042114555835724 4.632277011871338\n",
      "400 600 0.34714552760124207 4.328856945037842\n",
      "500 600 0.16356703639030457 5.8493146896362305\n",
      "600 600 0.08434213697910309 7.050921440124512\n",
      "100 600 0.24599850177764893 3.912921190261841\n",
      "200 600 0.2703566253185272 6.0887451171875\n",
      "300 600 0.07338783144950867 5.896717071533203\n",
      "400 600 0.14928127825260162 3.3651669025421143\n",
      "500 600 0.1377667486667633 5.078731536865234\n",
      "600 600 0.1015658751130104 4.347679615020752\n",
      "100 600 0.11854594945907593 4.878193378448486\n",
      "200 600 0.3337478041648865 4.768739700317383\n",
      "300 600 0.16628113389015198 4.818429470062256\n",
      "400 600 0.19952154159545898 5.2727556228637695\n",
      "500 600 0.1648259162902832 5.472009658813477\n",
      "600 600 0.2931816875934601 5.1691789627075195\n",
      "100 600 0.2029038965702057 5.071352958679199\n",
      "200 600 0.22735758125782013 4.940604209899902\n",
      "300 600 0.19260889291763306 6.073379039764404\n"
     ]
    }
   ],
   "source": [
    "total_step = len(data_loader)\n",
    "for epoch in range(num_epochs):\n",
    "    for idx,(images,_) in enumerate(data_loader):\n",
    "        images = images.reshape(batch_size,-1).to(device)\n",
    "        \n",
    "        real_labels = torch.ones(batch_size, 1).to(device)\n",
    "        fake_labels = torch.zeros(batch_size, 1).to(device)\n",
    "        \n",
    "        #------------DISCRIMINATOR-------------------------\n",
    "        outputs = D(images)\n",
    "        real_loss = criterion(outputs,real_labels)\n",
    "        \n",
    "        z = torch.randn(batch_size, latent_size).to(device)\n",
    "        fake_images = G(z)\n",
    "        outputs = D(fake_images)\n",
    "        fake_loss = criterion(outputs,fake_labels)\n",
    "        \n",
    "        d_loss = real_loss + fake_loss\n",
    "        reset_grad()\n",
    "        d_loss.backward()\n",
    "        d_optimizer.step()\n",
    "        \n",
    "        #-------------Generator---------------------------\n",
    "        z = torch.randn(batch_size, latent_size).to(device)\n",
    "        fake_images = G(z)\n",
    "        outputs = D(fake_images)\n",
    "        \n",
    "        g_loss = criterion(outputs,real_labels)\n",
    "        g_loss.backward()\n",
    "        g_optimizer.step()\n",
    "        \n",
    "        if (idx+1) % 100 == 0:\n",
    "            print(idx+1, total_step, d_loss.item(), g_loss.item())\n",
    "            \n",
    "    if epoch%5==0:\n",
    "        fake_images = fake_images.reshape(fake_images.size(0), 1, 28, 28)\n",
    "        save_image(denorm(fake_images), os.path.join(sample_dir, 'fake_images-{}.png'.format(epoch+1)))"
   ]
  },
  {
   "cell_type": "code",
   "execution_count": 17,
   "metadata": {},
   "outputs": [
    {
     "data": {
      "text/plain": [
       "torch.Size([100])"
      ]
     },
     "execution_count": 17,
     "metadata": {},
     "output_type": "execute_result"
    }
   ],
   "source": [
    "images.size()"
   ]
  },
  {
   "cell_type": "code",
   "execution_count": null,
   "metadata": {},
   "outputs": [],
   "source": []
  }
 ],
 "metadata": {
  "kernelspec": {
   "display_name": "Python 3",
   "language": "python",
   "name": "python3"
  },
  "language_info": {
   "codemirror_mode": {
    "name": "ipython",
    "version": 3
   },
   "file_extension": ".py",
   "mimetype": "text/x-python",
   "name": "python",
   "nbconvert_exporter": "python",
   "pygments_lexer": "ipython3",
   "version": "3.6.5"
  }
 },
 "nbformat": 4,
 "nbformat_minor": 2
}
